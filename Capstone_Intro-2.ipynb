{
 "cells": [
  {
   "cell_type": "markdown",
   "metadata": {},
   "source": [
    "# Predicting Montreal housing prices in each borough.\n",
    "\n",
    "#### by Ayat Ahmed"
   ]
  },
  {
   "cell_type": "markdown",
   "metadata": {},
   "source": [
    "## IBM Data Science Professional Specialization - Capstone Project\n",
    "\n",
    "This project will try to solve a problem or question by applying data science methods on the location data gotten from FourSquare API."
   ]
  },
  {
   "cell_type": "markdown",
   "metadata": {},
   "source": [
    "### Description Of The Project & Background"
   ]
  },
  {
   "cell_type": "markdown",
   "metadata": {},
   "source": [
    "#### 1. Introduction"
   ]
  },
  {
   "cell_type": "markdown",
   "metadata": {},
   "source": [
    "Montreal is a city at the heart of French Canada. Anyone who visits this city is sure to find European cultural symbolism around every street corner. The idea that the city is located in the North American continent might elude some folks. The vibrancy & aesthetics of the city, coupled with the liveliness of the party scene attracts lots of tourism from beyond the south border every year.\n",
    "\n",
    "Political discourse and \"immigration-friendly\" policy has shaped much of the remainder of Canada and Canadian Real-estate. While Montreal is lagging behind the curve on real estate trends seen elsewhere in the country, it has not managed to escape similar patterns. With a huge influx of International students into Canadian city-centers, real estate demand in those areas is on the uptrend. Add to that, foreign afluent businessmen are known to invest heavily into these same places pushing local home-buyers to explore further into the suburbs. \n",
    "\n",
    "Montreal's real estate market has managed to stay relatively cheaper than other major cities but that is sure to change in the following years as more and more investors realize the potential. For homebuyers, it is key that they find relatively undervalued properties that have good growth potential for when the upsurge does hit. A good indicator of a properties value are the venues that surround it. If we can use that as a predictor, Montreal homebuyers would be able to find undervalued properties and aid them in their decision-making."
   ]
  },
  {
   "cell_type": "markdown",
   "metadata": {},
   "source": [
    "#### 2. The problem"
   ]
  },
  {
   "cell_type": "markdown",
   "metadata": {},
   "source": [
    "This project will try to explore the boroughs of Montreal to see:\n",
    "\n",
    "-If the surrounding venues does affect real estate prices. If that is the case, what kind of venues can have more of an influence and what's the degree of that influence on the prices? <br>\n",
    "-If we can predict the property values based on the surrounding venues and with how much confidence.\n",
    "\n",
    "The results can be equally important for home-buyers and investors to find undervalued properties."
   ]
  },
  {
   "cell_type": "markdown",
   "metadata": {},
   "source": [
    "### Description Of The Data"
   ]
  },
  {
   "cell_type": "markdown",
   "metadata": {},
   "source": [
    "The core data that will be used for this project is available from 2 sources:\n",
    "1. The average house price per square foot in different Montreal boroughs [SHUPILOV REAL ESTATE](https://news.shupilov.com/section/lifestyle/neighborhoods/price-per-square-foot-for-montreal-homes-2018/)\n",
    "2. API Calls for venue information [Foursquare](https://foursquare.com)\n",
    "\n",
    "Note: Only single-family homes is being used as data for the project"
   ]
  },
  {
   "cell_type": "markdown",
   "metadata": {},
   "source": [
    "Supporting Data:\n",
    "* Borough coordinates [GeoCoder](https://geocoder.readthedocs.io)\n",
    "* Borough GeoJson [ARCGIS](https://www.arcgis.com/home/item.html?id=7422af60f3534943bf28b0a12962ce92)"
   ]
  },
  {
   "cell_type": "markdown",
   "metadata": {},
   "source": [
    "#### 1. Data collection process:\n",
    "* The average price will be scrapped from the SHUPILOV website.\n",
    "* For each borough, call Geocoder Python to get its coordinate.\n",
    "* For each borough's coordinates, call FourSquare API to get the surrounding venues.\n",
    "* Count the occurrences of each venue type and attach that information to each borough.\n",
    "\n",
    "The output of the data collecting process will be a 2 dimensions dataframe:\n",
    "* Each row represents a borough.\n",
    "* Each column will be the count of one type of venue in that neighborhood.\n",
    "* The last column will be the average single-family per square-foot price of that neighborhood.\n",
    "\n",
    "#### 2. Using data to solve the question:\n",
    "\n",
    "1. Correlation between price and surrounding venues will be checked.\n",
    "2. If correlated, machine learning techniques (PCA, Regression, PCR) will be used to analyze the data. The output will be a list of venues types that effect the most on price, along with their weight on the result."
   ]
  },
  {
   "cell_type": "code",
   "execution_count": null,
   "metadata": {},
   "outputs": [],
   "source": []
  }
 ],
 "metadata": {
  "kernelspec": {
   "display_name": "Python 3",
   "language": "python",
   "name": "python3"
  },
  "language_info": {
   "codemirror_mode": {
    "name": "ipython",
    "version": 3
   },
   "file_extension": ".py",
   "mimetype": "text/x-python",
   "name": "python",
   "nbconvert_exporter": "python",
   "pygments_lexer": "ipython3",
   "version": "3.7.6"
  }
 },
 "nbformat": 4,
 "nbformat_minor": 4
}
